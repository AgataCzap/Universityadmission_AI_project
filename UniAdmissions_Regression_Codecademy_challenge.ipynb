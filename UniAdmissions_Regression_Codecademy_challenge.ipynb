{
  "nbformat": 4,
  "nbformat_minor": 0,
  "metadata": {
    "colab": {
      "provenance": []
    },
    "kernelspec": {
      "name": "python3",
      "display_name": "Python 3"
    },
    "language_info": {
      "name": "python"
    }
  },
  "cells": [
    {
      "cell_type": "markdown",
      "source": [
        "# Using Regression AI Algorithm to Predict University Admission"
      ],
      "metadata": {
        "id": "93DoQUCAhNhS"
      }
    },
    {
      "cell_type": "markdown",
      "source": [
        "In this project, I'm using a regression AI model to predict column 'Chance of Admission' using the other columns such as the 'TOEFL score'.\n",
        "\n",
        "This will allow me to predict which students will be able to enroll at an univeristy, which students are top of their class or school.\n",
        "\n",
        "Data provided by Codecademy."
      ],
      "metadata": {
        "id": "_QywWlaOhfzz"
      }
    },
    {
      "cell_type": "markdown",
      "source": [
        "## **Loading and Inspecting The Dataset**"
      ],
      "metadata": {
        "id": "9qqy9mE9hN4u"
      }
    },
    {
      "cell_type": "code",
      "execution_count": null,
      "metadata": {
        "id": "OpSQlCirIfnS"
      },
      "outputs": [],
      "source": [
        "import pandas as pd\n",
        "import numpy as np\n",
        "import matplotlib.pyplot as plt\n",
        "\n",
        "import tensorflow as tf\n",
        "from tensorflow\timport keras\n",
        "from tensorflow.keras.models import Sequential\n",
        "from tensorflow.keras.callbacks import EarlyStopping\n",
        "from tensorflow.keras import layers\n",
        "\n",
        "from sklearn.model_selection import train_test_split\n",
        "from sklearn.preprocessing import StandardScaler\n",
        "from sklearn.preprocessing import Normalizer\n",
        "from sklearn.metrics import r2_score"
      ]
    },
    {
      "cell_type": "code",
      "source": [
        "dataset = pd.read_csv('admissions_data.csv')"
      ],
      "metadata": {
        "id": "Fhqwp28IJUbA"
      },
      "execution_count": null,
      "outputs": []
    },
    {
      "cell_type": "code",
      "source": [
        "print(dataset.head())\n",
        "print(dataset.columns.values.tolist())"
      ],
      "metadata": {
        "id": "v5uFTtbvJW4P",
        "outputId": "3cc9f951-2632-4157-9650-439422938eeb",
        "colab": {
          "base_uri": "https://localhost:8080/"
        }
      },
      "execution_count": null,
      "outputs": [
        {
          "output_type": "stream",
          "name": "stdout",
          "text": [
            "   Serial No.  GRE Score  TOEFL Score  University Rating  SOP  LOR   CGPA  \\\n",
            "0           1        337          118                  4  4.5   4.5  9.65   \n",
            "1           2        324          107                  4  4.0   4.5  8.87   \n",
            "2           3        316          104                  3  3.0   3.5  8.00   \n",
            "3           4        322          110                  3  3.5   2.5  8.67   \n",
            "4           5        314          103                  2  2.0   3.0  8.21   \n",
            "\n",
            "   Research  Chance of Admit   \n",
            "0         1              0.92  \n",
            "1         1              0.76  \n",
            "2         1              0.72  \n",
            "3         1              0.80  \n",
            "4         0              0.65  \n",
            "['Serial No.', 'GRE Score', 'TOEFL Score', 'University Rating', 'SOP', 'LOR ', 'CGPA', 'Research', 'Chance of Admit ']\n"
          ]
        }
      ]
    },
    {
      "cell_type": "markdown",
      "source": [
        "Removing ID column 'Serial No.' as it doesn't provide any useful information."
      ],
      "metadata": {
        "id": "T_7Sb5eC05c8"
      }
    },
    {
      "cell_type": "code",
      "source": [
        "dataset = dataset.drop(['Serial No.'], axis=1)"
      ],
      "metadata": {
        "id": "EIral7TDJZWt"
      },
      "execution_count": null,
      "outputs": []
    },
    {
      "cell_type": "code",
      "source": [
        "labels = dataset.iloc[:, -1]\n",
        "features = dataset.iloc[:, 0:-1]"
      ],
      "metadata": {
        "id": "t-qkM8ILJdor"
      },
      "execution_count": null,
      "outputs": []
    },
    {
      "cell_type": "code",
      "source": [
        "print(labels.head())\n",
        "print(features.head())"
      ],
      "metadata": {
        "colab": {
          "base_uri": "https://localhost:8080/"
        },
        "id": "SYWGkRkLZwgs",
        "outputId": "5842c5c8-aa95-4314-c517-eecd282ddf77"
      },
      "execution_count": null,
      "outputs": [
        {
          "output_type": "stream",
          "name": "stdout",
          "text": [
            "0    0.92\n",
            "1    0.76\n",
            "2    0.72\n",
            "3    0.80\n",
            "4    0.65\n",
            "Name: Chance of Admit , dtype: float64\n",
            "   GRE Score  TOEFL Score  University Rating  SOP  LOR   CGPA  Research\n",
            "0        337          118                  4  4.5   4.5  9.65         1\n",
            "1        324          107                  4  4.0   4.5  8.87         1\n",
            "2        316          104                  3  3.0   3.5  8.00         1\n",
            "3        322          110                  3  3.5   2.5  8.67         1\n",
            "4        314          103                  2  2.0   3.0  8.21         0\n"
          ]
        }
      ]
    },
    {
      "cell_type": "code",
      "source": [
        "print(\"Number of features: \", features.shape[1])\n",
        "print(\"Number of samples: \", features.shape[0])"
      ],
      "metadata": {
        "colab": {
          "base_uri": "https://localhost:8080/"
        },
        "id": "Q18h2YchaGU6",
        "outputId": "a9a5d90e-870f-4aae-eb24-def5e9e87c56"
      },
      "execution_count": null,
      "outputs": [
        {
          "output_type": "stream",
          "name": "stdout",
          "text": [
            "Number of features:  7\n",
            "Number of samples:  500\n"
          ]
        }
      ]
    },
    {
      "cell_type": "markdown",
      "source": [
        "We have 6 features we can use to predict the chance of admission and 500 data points."
      ],
      "metadata": {
        "id": "B83xgwaVzN8Y"
      }
    },
    {
      "cell_type": "code",
      "source": [
        "print(\"Number of labels: \", labels.shape[0])"
      ],
      "metadata": {
        "colab": {
          "base_uri": "https://localhost:8080/"
        },
        "id": "HkHsIjaPaNNG",
        "outputId": "70ff5932-b57d-4dda-b523-79dfb4aeab86"
      },
      "execution_count": null,
      "outputs": [
        {
          "output_type": "stream",
          "name": "stdout",
          "text": [
            "Number of labels:  500\n"
          ]
        }
      ]
    },
    {
      "cell_type": "markdown",
      "source": [
        "Summary stats to check if any feature is skewed."
      ],
      "metadata": {
        "id": "-HEzA6Wi1eY_"
      }
    },
    {
      "cell_type": "code",
      "source": [
        "print(features.describe())"
      ],
      "metadata": {
        "colab": {
          "base_uri": "https://localhost:8080/"
        },
        "id": "gOgjI4cJaZHP",
        "outputId": "64663608-1a1b-49a2-e8fe-b079541a1b26"
      },
      "execution_count": null,
      "outputs": [
        {
          "output_type": "stream",
          "name": "stdout",
          "text": [
            "        GRE Score  TOEFL Score  University Rating         SOP       LOR   \\\n",
            "count  500.000000   500.000000         500.000000  500.000000  500.00000   \n",
            "mean   316.472000   107.192000           3.114000    3.374000    3.48400   \n",
            "std     11.295148     6.081868           1.143512    0.991004    0.92545   \n",
            "min    290.000000    92.000000           1.000000    1.000000    1.00000   \n",
            "25%    308.000000   103.000000           2.000000    2.500000    3.00000   \n",
            "50%    317.000000   107.000000           3.000000    3.500000    3.50000   \n",
            "75%    325.000000   112.000000           4.000000    4.000000    4.00000   \n",
            "max    340.000000   120.000000           5.000000    5.000000    5.00000   \n",
            "\n",
            "             CGPA    Research  \n",
            "count  500.000000  500.000000  \n",
            "mean     8.576440    0.560000  \n",
            "std      0.604813    0.496884  \n",
            "min      6.800000    0.000000  \n",
            "25%      8.127500    0.000000  \n",
            "50%      8.560000    1.000000  \n",
            "75%      9.040000    1.000000  \n",
            "max      9.920000    1.000000  \n"
          ]
        }
      ]
    },
    {
      "cell_type": "code",
      "source": [
        "print(labels.describe())"
      ],
      "metadata": {
        "colab": {
          "base_uri": "https://localhost:8080/"
        },
        "id": "PJv9wqzvag5a",
        "outputId": "581d941e-ebc9-40ac-8e66-db2c57c79f4c"
      },
      "execution_count": null,
      "outputs": [
        {
          "output_type": "stream",
          "name": "stdout",
          "text": [
            "count    500.00000\n",
            "mean       0.72174\n",
            "std        0.14114\n",
            "min        0.34000\n",
            "25%        0.63000\n",
            "50%        0.72000\n",
            "75%        0.82000\n",
            "max        0.97000\n",
            "Name: Chance of Admit , dtype: float64\n"
          ]
        }
      ]
    },
    {
      "cell_type": "markdown",
      "source": [
        "## **Scaling Features**"
      ],
      "metadata": {
        "id": "U1zQQEiVhnqm"
      }
    },
    {
      "cell_type": "markdown",
      "source": [
        "Split dataset into 70% training and 30% test, standard split, random state of 101 for replicability.\n",
        "\n",
        "Using StandardScaler to standardise all features to the same dimensionality, prevents bias where one feature skews the prediction too much.\n",
        "\n",
        "Makes all the features follow Normal Distribution and gets rid of individual means."
      ],
      "metadata": {
        "id": "Q73zYivx1jXp"
      }
    },
    {
      "cell_type": "code",
      "source": [
        "features = pd.get_dummies(features)"
      ],
      "metadata": {
        "id": "zzfzS3iuJf35"
      },
      "execution_count": null,
      "outputs": []
    },
    {
      "cell_type": "code",
      "source": [
        "features_train, features_test, labels_train, labels_test = train_test_split(features, labels, test_size=0.3, random_state=101)"
      ],
      "metadata": {
        "id": "uCMAMYIbb49C"
      },
      "execution_count": null,
      "outputs": []
    },
    {
      "cell_type": "code",
      "source": [
        "sc = StandardScaler()"
      ],
      "metadata": {
        "id": "PscK7OQQdrWK"
      },
      "execution_count": null,
      "outputs": []
    },
    {
      "cell_type": "code",
      "source": [
        "features_train_scaled = sc.fit_transform(features_train)"
      ],
      "metadata": {
        "id": "rGRTt4BNJiUL"
      },
      "execution_count": null,
      "outputs": []
    },
    {
      "cell_type": "code",
      "source": [
        "features_test_scaled = sc.transform(features_test)"
      ],
      "metadata": {
        "id": "bECRhgfueSz4"
      },
      "execution_count": null,
      "outputs": []
    },
    {
      "cell_type": "code",
      "source": [
        "features_train_scaled.shape[1]"
      ],
      "metadata": {
        "colab": {
          "base_uri": "https://localhost:8080/"
        },
        "id": "SLLxJVMlravP",
        "outputId": "9a286847-ffcb-4c0c-eccd-fd5e30e9d7ad"
      },
      "execution_count": null,
      "outputs": [
        {
          "output_type": "execute_result",
          "data": {
            "text/plain": [
              "7"
            ]
          },
          "metadata": {},
          "execution_count": 23
        }
      ]
    },
    {
      "cell_type": "code",
      "source": [
        "features_train.shape[1]"
      ],
      "metadata": {
        "colab": {
          "base_uri": "https://localhost:8080/"
        },
        "id": "S7jYIxk9rf3z",
        "outputId": "750e471b-c6e3-4058-bd86-6749fa56cd85"
      },
      "execution_count": null,
      "outputs": [
        {
          "output_type": "execute_result",
          "data": {
            "text/plain": [
              "7"
            ]
          },
          "metadata": {},
          "execution_count": 22
        }
      ]
    },
    {
      "cell_type": "markdown",
      "source": [
        "## **Creating My Model**"
      ],
      "metadata": {
        "id": "fJwuSN-qhocq"
      }
    },
    {
      "cell_type": "markdown",
      "source": [
        "Used trial and error, a model with 3 Dense layers worked best.\n",
        "\n",
        "Added dropout layers with rate of 20% to prevent the model from overfitting to training and test data too much.\n",
        "\n",
        "Final Dense layer with 1 neuron and sigmoid activation to predict the desired column, using sigmoid as I'm predicting only 1 variable."
      ],
      "metadata": {
        "id": "rYNTrtv11lBg"
      }
    },
    {
      "cell_type": "code",
      "source": [
        "from keras.layers import Input, Dense, Dropout\n",
        "from keras.optimizers import Adam\n",
        "from keras.losses import MeanSquaredError, MeanAbsoluteError"
      ],
      "metadata": {
        "id": "Lsphw9rmryhq"
      },
      "execution_count": null,
      "outputs": []
    },
    {
      "cell_type": "code",
      "source": [
        "model = Sequential()\n",
        "model.add(Input(shape=(features_train_scaled.shape[1],)))\n",
        "model.add(Dense(16, activation='relu'))\n",
        "model.add(Dropout(0.2))\n",
        "model.add(Dense(8, activation='relu'))\n",
        "model.add(Dropout(0.2))\n",
        "model.add(Dense(1, activation='sigmoid'))\n"
      ],
      "metadata": {
        "id": "CTtoK_qtefx2"
      },
      "execution_count": null,
      "outputs": []
    },
    {
      "cell_type": "code",
      "source": [
        "my_opt = Adam(learning_rate=0.001)"
      ],
      "metadata": {
        "id": "4TmmzC42slK-"
      },
      "execution_count": null,
      "outputs": []
    },
    {
      "cell_type": "code",
      "source": [
        "early_stop = EarlyStopping(monitor='val_loss', mode='min', verbose=1, patience=20)"
      ],
      "metadata": {
        "id": "KhD-gqmXsvzZ"
      },
      "execution_count": null,
      "outputs": []
    },
    {
      "cell_type": "code",
      "source": [
        "model.compile(loss='mse', metrics=['mae'], optimizer=my_opt)"
      ],
      "metadata": {
        "id": "UNqRbkg9sony"
      },
      "execution_count": null,
      "outputs": []
    },
    {
      "cell_type": "markdown",
      "source": [
        "## **Training My Model**"
      ],
      "metadata": {
        "id": "oQiKn9xIhpZ6"
      }
    },
    {
      "cell_type": "code",
      "source": [
        "history = model.fit(features_train_scaled, labels_train.to_numpy(),\n",
        "                    epochs=100, batch_size=7,\n",
        "                    validation_data=(features_test_scaled, labels_test.to_numpy()), verbose=1,\n",
        "                    callbacks=[early_stop])"
      ],
      "metadata": {
        "colab": {
          "base_uri": "https://localhost:8080/"
        },
        "id": "_wcJOiKfxlfi",
        "outputId": "eadee147-40ff-42bc-9c23-79545d934695"
      },
      "execution_count": null,
      "outputs": [
        {
          "output_type": "stream",
          "name": "stdout",
          "text": [
            "Epoch 1/100\n",
            "50/50 [==============================] - 1s 8ms/step - loss: 0.0323 - mae: 0.1536 - val_loss: 0.0153 - val_mae: 0.1038\n",
            "Epoch 2/100\n",
            "50/50 [==============================] - 0s 5ms/step - loss: 0.0193 - mae: 0.1117 - val_loss: 0.0102 - val_mae: 0.0804\n",
            "Epoch 3/100\n",
            "50/50 [==============================] - 0s 5ms/step - loss: 0.0152 - mae: 0.0970 - val_loss: 0.0084 - val_mae: 0.0713\n",
            "Epoch 4/100\n",
            "50/50 [==============================] - 0s 4ms/step - loss: 0.0146 - mae: 0.0946 - val_loss: 0.0076 - val_mae: 0.0691\n",
            "Epoch 5/100\n",
            "50/50 [==============================] - 0s 4ms/step - loss: 0.0116 - mae: 0.0845 - val_loss: 0.0072 - val_mae: 0.0677\n",
            "Epoch 6/100\n",
            "50/50 [==============================] - 0s 5ms/step - loss: 0.0124 - mae: 0.0873 - val_loss: 0.0068 - val_mae: 0.0662\n",
            "Epoch 7/100\n",
            "50/50 [==============================] - 0s 4ms/step - loss: 0.0105 - mae: 0.0820 - val_loss: 0.0065 - val_mae: 0.0655\n",
            "Epoch 8/100\n",
            "50/50 [==============================] - 0s 4ms/step - loss: 0.0103 - mae: 0.0788 - val_loss: 0.0062 - val_mae: 0.0631\n",
            "Epoch 9/100\n",
            "50/50 [==============================] - 0s 3ms/step - loss: 0.0098 - mae: 0.0775 - val_loss: 0.0060 - val_mae: 0.0623\n",
            "Epoch 10/100\n",
            "50/50 [==============================] - 0s 3ms/step - loss: 0.0104 - mae: 0.0794 - val_loss: 0.0057 - val_mae: 0.0600\n",
            "Epoch 11/100\n",
            "50/50 [==============================] - 0s 3ms/step - loss: 0.0094 - mae: 0.0765 - val_loss: 0.0055 - val_mae: 0.0589\n",
            "Epoch 12/100\n",
            "50/50 [==============================] - 0s 4ms/step - loss: 0.0081 - mae: 0.0726 - val_loss: 0.0053 - val_mae: 0.0573\n",
            "Epoch 13/100\n",
            "50/50 [==============================] - 0s 3ms/step - loss: 0.0089 - mae: 0.0735 - val_loss: 0.0050 - val_mae: 0.0556\n",
            "Epoch 14/100\n",
            "50/50 [==============================] - 0s 3ms/step - loss: 0.0083 - mae: 0.0710 - val_loss: 0.0050 - val_mae: 0.0557\n",
            "Epoch 15/100\n",
            "50/50 [==============================] - 0s 4ms/step - loss: 0.0081 - mae: 0.0705 - val_loss: 0.0049 - val_mae: 0.0551\n",
            "Epoch 16/100\n",
            "50/50 [==============================] - 0s 4ms/step - loss: 0.0084 - mae: 0.0702 - val_loss: 0.0049 - val_mae: 0.0550\n",
            "Epoch 17/100\n",
            "50/50 [==============================] - 0s 3ms/step - loss: 0.0062 - mae: 0.0597 - val_loss: 0.0048 - val_mae: 0.0537\n",
            "Epoch 18/100\n",
            "50/50 [==============================] - 0s 4ms/step - loss: 0.0072 - mae: 0.0660 - val_loss: 0.0047 - val_mae: 0.0535\n",
            "Epoch 19/100\n",
            "50/50 [==============================] - 0s 3ms/step - loss: 0.0069 - mae: 0.0645 - val_loss: 0.0046 - val_mae: 0.0522\n",
            "Epoch 20/100\n",
            "50/50 [==============================] - 0s 4ms/step - loss: 0.0073 - mae: 0.0666 - val_loss: 0.0045 - val_mae: 0.0515\n",
            "Epoch 21/100\n",
            "50/50 [==============================] - 0s 3ms/step - loss: 0.0070 - mae: 0.0644 - val_loss: 0.0043 - val_mae: 0.0502\n",
            "Epoch 22/100\n",
            "50/50 [==============================] - 0s 4ms/step - loss: 0.0066 - mae: 0.0621 - val_loss: 0.0043 - val_mae: 0.0504\n",
            "Epoch 23/100\n",
            "50/50 [==============================] - 0s 3ms/step - loss: 0.0067 - mae: 0.0642 - val_loss: 0.0042 - val_mae: 0.0500\n",
            "Epoch 24/100\n",
            "50/50 [==============================] - 0s 3ms/step - loss: 0.0064 - mae: 0.0610 - val_loss: 0.0042 - val_mae: 0.0496\n",
            "Epoch 25/100\n",
            "50/50 [==============================] - 0s 3ms/step - loss: 0.0065 - mae: 0.0617 - val_loss: 0.0041 - val_mae: 0.0487\n",
            "Epoch 26/100\n",
            "50/50 [==============================] - 0s 3ms/step - loss: 0.0062 - mae: 0.0598 - val_loss: 0.0041 - val_mae: 0.0493\n",
            "Epoch 27/100\n",
            "50/50 [==============================] - 0s 3ms/step - loss: 0.0056 - mae: 0.0582 - val_loss: 0.0041 - val_mae: 0.0486\n",
            "Epoch 28/100\n",
            "50/50 [==============================] - 0s 4ms/step - loss: 0.0061 - mae: 0.0607 - val_loss: 0.0041 - val_mae: 0.0491\n",
            "Epoch 29/100\n",
            "50/50 [==============================] - 0s 3ms/step - loss: 0.0064 - mae: 0.0620 - val_loss: 0.0042 - val_mae: 0.0498\n",
            "Epoch 30/100\n",
            "50/50 [==============================] - 0s 4ms/step - loss: 0.0066 - mae: 0.0614 - val_loss: 0.0041 - val_mae: 0.0490\n",
            "Epoch 31/100\n",
            "50/50 [==============================] - 0s 4ms/step - loss: 0.0062 - mae: 0.0621 - val_loss: 0.0041 - val_mae: 0.0487\n",
            "Epoch 32/100\n",
            "50/50 [==============================] - 0s 4ms/step - loss: 0.0061 - mae: 0.0612 - val_loss: 0.0040 - val_mae: 0.0475\n",
            "Epoch 33/100\n",
            "50/50 [==============================] - 0s 3ms/step - loss: 0.0055 - mae: 0.0553 - val_loss: 0.0039 - val_mae: 0.0472\n",
            "Epoch 34/100\n",
            "50/50 [==============================] - 0s 4ms/step - loss: 0.0063 - mae: 0.0618 - val_loss: 0.0040 - val_mae: 0.0472\n",
            "Epoch 35/100\n",
            "50/50 [==============================] - 0s 4ms/step - loss: 0.0060 - mae: 0.0588 - val_loss: 0.0039 - val_mae: 0.0468\n",
            "Epoch 36/100\n",
            "50/50 [==============================] - 0s 4ms/step - loss: 0.0055 - mae: 0.0559 - val_loss: 0.0038 - val_mae: 0.0467\n",
            "Epoch 37/100\n",
            "50/50 [==============================] - 0s 3ms/step - loss: 0.0061 - mae: 0.0586 - val_loss: 0.0038 - val_mae: 0.0465\n",
            "Epoch 38/100\n",
            "50/50 [==============================] - 0s 3ms/step - loss: 0.0060 - mae: 0.0588 - val_loss: 0.0038 - val_mae: 0.0459\n",
            "Epoch 39/100\n",
            "50/50 [==============================] - 0s 3ms/step - loss: 0.0055 - mae: 0.0565 - val_loss: 0.0037 - val_mae: 0.0455\n",
            "Epoch 40/100\n",
            "50/50 [==============================] - 0s 4ms/step - loss: 0.0054 - mae: 0.0550 - val_loss: 0.0037 - val_mae: 0.0454\n",
            "Epoch 41/100\n",
            "50/50 [==============================] - 0s 3ms/step - loss: 0.0049 - mae: 0.0524 - val_loss: 0.0036 - val_mae: 0.0456\n",
            "Epoch 42/100\n",
            "50/50 [==============================] - 0s 4ms/step - loss: 0.0056 - mae: 0.0564 - val_loss: 0.0037 - val_mae: 0.0457\n",
            "Epoch 43/100\n",
            "50/50 [==============================] - 0s 3ms/step - loss: 0.0050 - mae: 0.0538 - val_loss: 0.0037 - val_mae: 0.0451\n",
            "Epoch 44/100\n",
            "50/50 [==============================] - 0s 3ms/step - loss: 0.0054 - mae: 0.0560 - val_loss: 0.0036 - val_mae: 0.0447\n",
            "Epoch 45/100\n",
            "50/50 [==============================] - 0s 4ms/step - loss: 0.0054 - mae: 0.0557 - val_loss: 0.0036 - val_mae: 0.0450\n",
            "Epoch 46/100\n",
            "50/50 [==============================] - 0s 3ms/step - loss: 0.0054 - mae: 0.0568 - val_loss: 0.0036 - val_mae: 0.0454\n",
            "Epoch 47/100\n",
            "50/50 [==============================] - 0s 3ms/step - loss: 0.0049 - mae: 0.0523 - val_loss: 0.0036 - val_mae: 0.0453\n",
            "Epoch 48/100\n",
            "50/50 [==============================] - 0s 4ms/step - loss: 0.0051 - mae: 0.0545 - val_loss: 0.0036 - val_mae: 0.0446\n",
            "Epoch 49/100\n",
            "50/50 [==============================] - 0s 3ms/step - loss: 0.0055 - mae: 0.0571 - val_loss: 0.0036 - val_mae: 0.0447\n",
            "Epoch 50/100\n",
            "50/50 [==============================] - 0s 3ms/step - loss: 0.0054 - mae: 0.0558 - val_loss: 0.0036 - val_mae: 0.0444\n",
            "Epoch 51/100\n",
            "50/50 [==============================] - 0s 4ms/step - loss: 0.0047 - mae: 0.0521 - val_loss: 0.0036 - val_mae: 0.0444\n",
            "Epoch 52/100\n",
            "50/50 [==============================] - 0s 3ms/step - loss: 0.0055 - mae: 0.0566 - val_loss: 0.0036 - val_mae: 0.0446\n",
            "Epoch 53/100\n",
            "50/50 [==============================] - 0s 4ms/step - loss: 0.0055 - mae: 0.0562 - val_loss: 0.0036 - val_mae: 0.0444\n",
            "Epoch 54/100\n",
            "50/50 [==============================] - 0s 3ms/step - loss: 0.0058 - mae: 0.0571 - val_loss: 0.0036 - val_mae: 0.0441\n",
            "Epoch 55/100\n",
            "50/50 [==============================] - 0s 4ms/step - loss: 0.0055 - mae: 0.0570 - val_loss: 0.0036 - val_mae: 0.0442\n",
            "Epoch 56/100\n",
            "50/50 [==============================] - 0s 3ms/step - loss: 0.0049 - mae: 0.0524 - val_loss: 0.0036 - val_mae: 0.0445\n",
            "Epoch 57/100\n",
            "50/50 [==============================] - 0s 3ms/step - loss: 0.0051 - mae: 0.0560 - val_loss: 0.0036 - val_mae: 0.0444\n",
            "Epoch 58/100\n",
            "50/50 [==============================] - 0s 4ms/step - loss: 0.0049 - mae: 0.0530 - val_loss: 0.0037 - val_mae: 0.0443\n",
            "Epoch 59/100\n",
            "50/50 [==============================] - 0s 3ms/step - loss: 0.0052 - mae: 0.0534 - val_loss: 0.0036 - val_mae: 0.0442\n",
            "Epoch 60/100\n",
            "50/50 [==============================] - 0s 4ms/step - loss: 0.0044 - mae: 0.0497 - val_loss: 0.0035 - val_mae: 0.0439\n",
            "Epoch 61/100\n",
            "50/50 [==============================] - 0s 4ms/step - loss: 0.0049 - mae: 0.0534 - val_loss: 0.0036 - val_mae: 0.0439\n",
            "Epoch 62/100\n",
            "50/50 [==============================] - 0s 4ms/step - loss: 0.0051 - mae: 0.0543 - val_loss: 0.0035 - val_mae: 0.0434\n",
            "Epoch 63/100\n",
            "50/50 [==============================] - 0s 4ms/step - loss: 0.0050 - mae: 0.0534 - val_loss: 0.0036 - val_mae: 0.0437\n",
            "Epoch 64/100\n",
            "50/50 [==============================] - 0s 4ms/step - loss: 0.0046 - mae: 0.0517 - val_loss: 0.0035 - val_mae: 0.0433\n",
            "Epoch 65/100\n",
            "50/50 [==============================] - 0s 4ms/step - loss: 0.0045 - mae: 0.0493 - val_loss: 0.0035 - val_mae: 0.0431\n",
            "Epoch 66/100\n",
            "50/50 [==============================] - 0s 4ms/step - loss: 0.0048 - mae: 0.0518 - val_loss: 0.0035 - val_mae: 0.0427\n",
            "Epoch 67/100\n",
            "50/50 [==============================] - 0s 4ms/step - loss: 0.0053 - mae: 0.0555 - val_loss: 0.0035 - val_mae: 0.0429\n",
            "Epoch 68/100\n",
            "50/50 [==============================] - 0s 5ms/step - loss: 0.0046 - mae: 0.0516 - val_loss: 0.0036 - val_mae: 0.0435\n",
            "Epoch 69/100\n",
            "50/50 [==============================] - 0s 5ms/step - loss: 0.0048 - mae: 0.0530 - val_loss: 0.0036 - val_mae: 0.0433\n",
            "Epoch 70/100\n",
            "50/50 [==============================] - 0s 4ms/step - loss: 0.0048 - mae: 0.0513 - val_loss: 0.0035 - val_mae: 0.0429\n",
            "Epoch 71/100\n",
            "50/50 [==============================] - 0s 4ms/step - loss: 0.0050 - mae: 0.0535 - val_loss: 0.0036 - val_mae: 0.0428\n",
            "Epoch 72/100\n",
            "50/50 [==============================] - 0s 4ms/step - loss: 0.0044 - mae: 0.0503 - val_loss: 0.0036 - val_mae: 0.0429\n",
            "Epoch 73/100\n",
            "50/50 [==============================] - 0s 4ms/step - loss: 0.0049 - mae: 0.0520 - val_loss: 0.0035 - val_mae: 0.0429\n",
            "Epoch 74/100\n",
            "50/50 [==============================] - 0s 4ms/step - loss: 0.0045 - mae: 0.0494 - val_loss: 0.0036 - val_mae: 0.0428\n",
            "Epoch 75/100\n",
            "50/50 [==============================] - 0s 4ms/step - loss: 0.0044 - mae: 0.0508 - val_loss: 0.0036 - val_mae: 0.0430\n",
            "Epoch 76/100\n",
            "50/50 [==============================] - 0s 4ms/step - loss: 0.0046 - mae: 0.0510 - val_loss: 0.0036 - val_mae: 0.0428\n",
            "Epoch 77/100\n",
            "50/50 [==============================] - 0s 4ms/step - loss: 0.0049 - mae: 0.0519 - val_loss: 0.0036 - val_mae: 0.0429\n",
            "Epoch 78/100\n",
            "50/50 [==============================] - 0s 5ms/step - loss: 0.0051 - mae: 0.0528 - val_loss: 0.0036 - val_mae: 0.0429\n",
            "Epoch 79/100\n",
            "50/50 [==============================] - 0s 4ms/step - loss: 0.0050 - mae: 0.0519 - val_loss: 0.0035 - val_mae: 0.0428\n",
            "Epoch 80/100\n",
            "50/50 [==============================] - 0s 4ms/step - loss: 0.0046 - mae: 0.0502 - val_loss: 0.0036 - val_mae: 0.0428\n",
            "Epoch 81/100\n",
            "50/50 [==============================] - 0s 4ms/step - loss: 0.0043 - mae: 0.0489 - val_loss: 0.0036 - val_mae: 0.0427\n",
            "Epoch 82/100\n",
            "50/50 [==============================] - 0s 4ms/step - loss: 0.0048 - mae: 0.0503 - val_loss: 0.0035 - val_mae: 0.0427\n",
            "Epoch 83/100\n",
            "50/50 [==============================] - 0s 4ms/step - loss: 0.0047 - mae: 0.0500 - val_loss: 0.0035 - val_mae: 0.0430\n",
            "Epoch 84/100\n",
            "50/50 [==============================] - 0s 4ms/step - loss: 0.0046 - mae: 0.0514 - val_loss: 0.0036 - val_mae: 0.0427\n",
            "Epoch 85/100\n",
            "50/50 [==============================] - 0s 5ms/step - loss: 0.0042 - mae: 0.0494 - val_loss: 0.0035 - val_mae: 0.0426\n",
            "Epoch 86/100\n",
            "50/50 [==============================] - 0s 4ms/step - loss: 0.0041 - mae: 0.0499 - val_loss: 0.0035 - val_mae: 0.0428\n",
            "Epoch 86: early stopping\n"
          ]
        }
      ]
    },
    {
      "cell_type": "markdown",
      "source": [
        "## **Evaluating The Model's Performance**"
      ],
      "metadata": {
        "id": "6D5mVOt1zjnX"
      }
    },
    {
      "cell_type": "markdown",
      "source": [
        "Using Mean Absolute Loss, Pearson Correlation Coefficient (R^2) and validation loss to evaluate how well my model can predict chance of admission."
      ],
      "metadata": {
        "id": "hkzIIl0S0ySO"
      }
    },
    {
      "cell_type": "code",
      "source": [
        "val_mae, val_mse = model.evaluate(features_test_scaled, labels_test.to_numpy(), verbose=1)"
      ],
      "metadata": {
        "colab": {
          "base_uri": "https://localhost:8080/"
        },
        "id": "SywcnnmZy7se",
        "outputId": "da1fa550-a1fe-4956-b14c-a486db27b5c5"
      },
      "execution_count": null,
      "outputs": [
        {
          "output_type": "stream",
          "name": "stdout",
          "text": [
            "5/5 [==============================] - 0s 3ms/step - loss: 0.0035 - mae: 0.0428\n"
          ]
        }
      ]
    },
    {
      "cell_type": "markdown",
      "source": [
        "Mean Absolute Error - the lower the better, checking MAE for test dataset."
      ],
      "metadata": {
        "id": "pXdpQzHfh2ne"
      }
    },
    {
      "cell_type": "code",
      "source": [
        "print(\"MAE: \", val_mae)"
      ],
      "metadata": {
        "colab": {
          "base_uri": "https://localhost:8080/"
        },
        "id": "gCcgUlr8zKUW",
        "outputId": "9f62922b-23c2-44ae-a7af-c78ffd6b9c7d"
      },
      "execution_count": null,
      "outputs": [
        {
          "output_type": "stream",
          "name": "stdout",
          "text": [
            "MAE:  0.003530955407768488\n"
          ]
        }
      ]
    },
    {
      "cell_type": "code",
      "source": [
        "y_pred = model.predict(features_test_scaled)"
      ],
      "metadata": {
        "colab": {
          "base_uri": "https://localhost:8080/"
        },
        "id": "pqBkg8fQzPjK",
        "outputId": "e48adad5-8e8c-4e55-e7d8-a79885c6e01a"
      },
      "execution_count": null,
      "outputs": [
        {
          "output_type": "stream",
          "name": "stdout",
          "text": [
            "5/5 [==============================] - 0s 3ms/step\n"
          ]
        }
      ]
    },
    {
      "cell_type": "markdown",
      "source": [
        "R^2 value, determines fit of the model's predictions to true test values! How close they are."
      ],
      "metadata": {
        "id": "e56pk1mg2i2D"
      }
    },
    {
      "cell_type": "code",
      "source": [
        "print(r2_score(labels_test, y_pred))"
      ],
      "metadata": {
        "colab": {
          "base_uri": "https://localhost:8080/"
        },
        "id": "YXcJODzMzidw",
        "outputId": "c262db2f-98ba-40b9-a53d-140394b406ff"
      },
      "execution_count": null,
      "outputs": [
        {
          "output_type": "stream",
          "name": "stdout",
          "text": [
            "0.8088468271826802\n"
          ]
        }
      ]
    },
    {
      "cell_type": "code",
      "source": [
        "fig = plt.figure()\n",
        "ax1 = fig.add_subplot(2, 1, 1)\n",
        "ax1.plot(history.history['mae'])\n",
        "ax1.plot(history.history['val_mae'])\n",
        "ax1.set_title('model mae')\n",
        "ax1.set_ylabel('MAE')\n",
        "ax1.set_xlabel('epoch')\n",
        "ax1.legend(['train', 'validation'], loc='upper left')\n",
        "\n",
        "# Plot loss and val_loss over each epoch\n",
        "ax2 = fig.add_subplot(2, 1, 2)\n",
        "ax2.plot(history.history['loss'])\n",
        "ax2.plot(history.history['val_loss'])\n",
        "ax2.set_title('model loss')\n",
        "ax2.set_ylabel('loss')\n",
        "ax2.set_xlabel('epoch')\n",
        "ax2.legend(['train', 'validation'], loc='upper left')\n",
        "\n",
        "plt.show()"
      ],
      "metadata": {
        "colab": {
          "base_uri": "https://localhost:8080/",
          "height": 472
        },
        "id": "YUD45Pfhzsiz",
        "outputId": "9a949223-617e-462e-99eb-88c067350192"
      },
      "execution_count": null,
      "outputs": [
        {
          "output_type": "display_data",
          "data": {
            "text/plain": [
              "<Figure size 640x480 with 2 Axes>"
            ],
            "image/png": "[encoded data removed]"
          },
          "metadata": {}
        }
      ]
    },
    {
      "cell_type": "markdown",
      "source": [
        "The validation loss and validation mean absolute error decrease to be nearly non-existent over epochs, that means the model is very precise and accurate!"
      ],
      "metadata": {
        "id": "NU-1Ti8EzrUs"
      }
    }
  ]
}